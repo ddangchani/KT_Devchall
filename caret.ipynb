{
 "cells": [
  {
   "cell_type": "code",
   "execution_count": null,
   "metadata": {},
   "outputs": [],
   "source": [
    "from pycaret.classification import *\n",
    "import numpy as np\n",
    "import pandas as pd\n",
    "import matplotlib.pyplot as plt "
   ]
  },
  {
   "cell_type": "code",
   "execution_count": null,
   "metadata": {},
   "outputs": [],
   "source": [
    "df_train = pd.read_pickle('train.pkl')\n",
    "df_test = pd.read_pickle('test.pkl')"
   ]
  },
  {
   "cell_type": "code",
   "execution_count": null,
   "metadata": {},
   "outputs": [],
   "source": [
    "# 불필요한 변수 제거\n",
    "df_train = df_train[df_train.columns.drop(['Datetime','Media_ID','Adunit_ID'])]\n",
    "df_test = df_test[df_test.columns.drop(['Datetime','Media_ID','Adunit_ID'])]"
   ]
  },
  {
   "cell_type": "code",
   "execution_count": null,
   "metadata": {},
   "outputs": [],
   "source": [
    "cols_cat = ['ADID_type', 'DSP_ID', 'Platform', 'OS_type', 'Size_ID', \n",
    "       'Country_ID', 'weekend', 'hour', 'dayofweek',\n",
    "       'IAB_0', 'IAB_1', 'IAB_2', 'IAB_3', 'IAB_4', 'IAB_5', 'IAB_6', 'IAB_7',\n",
    "       'IAB_8', 'IAB_9', 'IAB_10', 'IAB_11', 'IAB_12', 'IAB_13', 'IAB_14',\n",
    "       'IAB_15', 'IAB_16', 'IAB_17', 'IAB_18', 'IAB_19', 'IAB_20', 'IAB_21',\n",
    "       'IAB_22', 'IAB_23', 'IAB_24', 'IAB_25', 'IAB_26']\n",
    "\n",
    "cols_num = ['P1', 'P2', 'P3', 'P4', 'Ex_Rate']"
   ]
  },
  {
   "cell_type": "code",
   "execution_count": null,
   "metadata": {},
   "outputs": [],
   "source": [
    "# Pycaret env setup\n",
    "class_auto = setup(\n",
    "    data = df_train, target = 'Class', session_id = 123,\n",
    "    normalize = True, transformation = True,\n",
    "    remove_multicollinearity = True, multicollinearity_threshold=0.95,\n",
    "    log_experiment = True, experiment_name = 'train1' # 기타 세팅\n",
    ")"
   ]
  },
  {
   "cell_type": "code",
   "execution_count": null,
   "metadata": {},
   "outputs": [],
   "source": [
    "df_train.to_csv('train.csv', index=False)"
   ]
  },
  {
   "cell_type": "code",
   "execution_count": null,
   "metadata": {},
   "outputs": [],
   "source": []
  }
 ],
 "metadata": {
  "kernelspec": {
   "display_name": "Python 3.8.13 ('caret')",
   "language": "python",
   "name": "python3"
  },
  "language_info": {
   "codemirror_mode": {
    "name": "ipython",
    "version": 3
   },
   "file_extension": ".py",
   "mimetype": "text/x-python",
   "name": "python",
   "nbconvert_exporter": "python",
   "pygments_lexer": "ipython3",
   "version": "3.8.8"
  },
  "orig_nbformat": 4,
  "vscode": {
   "interpreter": {
    "hash": "e5675c9e4f07d500d1145549ba1d024f9e226bfb8753696f69922aab26037d7f"
   }
  }
 },
 "nbformat": 4,
 "nbformat_minor": 2
}
