{
 "cells": [
  {
   "cell_type": "code",
   "execution_count": 24,
   "metadata": {},
   "outputs": [],
   "source": [
    "import pandas as pd\n",
    "import numpy as np\n",
    "from sklearn.model_selection import train_test_split\n",
    "from sklearn.metrics import f1_score, roc_auc_score\n",
    "import torch\n",
    "import torch.nn as nn\n",
    "import torch.optim as optim\n",
    "import torch.nn.functional as F\n",
    "from torch.utils.data import Dataset, DataLoader\n"
   ]
  },
  {
   "cell_type": "code",
   "execution_count": 25,
   "metadata": {},
   "outputs": [
    {
     "data": {
      "text/plain": [
       "device(type='mps')"
      ]
     },
     "execution_count": 25,
     "metadata": {},
     "output_type": "execute_result"
    }
   ],
   "source": [
    "# Device Setting\n",
    "device = torch.device('cuda') if torch.cuda.is_available() else torch.device('mps')\n",
    "device"
   ]
  },
  {
   "cell_type": "code",
   "execution_count": 26,
   "metadata": {},
   "outputs": [],
   "source": [
    "# Seed setting\n",
    "import random\n",
    "\n",
    "def def_seed(seed):\n",
    "    random.seed(seed)\n",
    "    os.environ['PYTHONHASHSEED'] = str(seed)\n",
    "    np.random.seed(seed)\n",
    "    torch.manual_seed(seed)\n",
    "\n",
    "def_seed(seed=123)"
   ]
  },
  {
   "cell_type": "code",
   "execution_count": 27,
   "metadata": {},
   "outputs": [],
   "source": [
    "# Hyperparameters for Neural Network\n",
    "epochs = 100\n",
    "lr = 0.01\n",
    "batch_size = 4096"
   ]
  },
  {
   "cell_type": "code",
   "execution_count": 30,
   "metadata": {},
   "outputs": [],
   "source": [
    "# Data Load\n",
    "df_train = pd.read_pickle('train.pkl')\n",
    "df_test = pd.read_pickle('test.pkl')"
   ]
  },
  {
   "cell_type": "code",
   "execution_count": 39,
   "metadata": {},
   "outputs": [
    {
     "data": {
      "text/plain": [
       "['IAB22',\n",
       " 'IAB22',\n",
       " 'IAB22',\n",
       " nan,\n",
       " nan,\n",
       " 'IAB22',\n",
       " nan,\n",
       " nan,\n",
       " nan,\n",
       " nan,\n",
       " nan,\n",
       " nan,\n",
       " 'IAB22',\n",
       " nan,\n",
       " nan,\n",
       " nan,\n",
       " nan,\n",
       " nan,\n",
       " nan,\n",
       " 'IAB9-30',\n",
       " 'IAB3',\n",
       " 'IAB9-30',\n",
       " nan,\n",
       " 'IAB22',\n",
       " nan,\n",
       " 'IAB9-30',\n",
       " nan,\n",
       " nan,\n",
       " nan,\n",
       " nan,\n",
       " nan,\n",
       " nan,\n",
       " 'IAB7-30%2CIAB6-7%2CIAB7-39%2CIAB7-45%2CIAB7-11',\n",
       " nan,\n",
       " nan,\n",
       " nan,\n",
       " nan,\n",
       " nan,\n",
       " nan,\n",
       " nan,\n",
       " nan,\n",
       " 'IAB22',\n",
       " nan,\n",
       " 'IAB14',\n",
       " 'IAB22',\n",
       " nan,\n",
       " 'IAB13',\n",
       " nan,\n",
       " nan,\n",
       " nan,\n",
       " 'IAB2',\n",
       " nan,\n",
       " 'IAB9-30',\n",
       " nan,\n",
       " nan,\n",
       " 'IAB22',\n",
       " 'IAB22',\n",
       " nan,\n",
       " nan,\n",
       " 'IAB22',\n",
       " 'IAB2',\n",
       " nan,\n",
       " 'IAB18-1',\n",
       " 'IAB3',\n",
       " 'IAB13',\n",
       " nan,\n",
       " nan,\n",
       " nan,\n",
       " 'IAB2',\n",
       " 'IAB9',\n",
       " nan,\n",
       " 'IAB8',\n",
       " nan,\n",
       " nan,\n",
       " nan,\n",
       " nan,\n",
       " nan,\n",
       " nan,\n",
       " nan,\n",
       " 'IAB22',\n",
       " nan,\n",
       " nan,\n",
       " nan,\n",
       " 'IAB14',\n",
       " nan,\n",
       " 'IAB13',\n",
       " 'IAB14',\n",
       " nan,\n",
       " 'IAB9-22%2CIAB9-12%2CIAB5-2%2CIAB19-24',\n",
       " nan,\n",
       " 'IAB9-25',\n",
       " 'IAB14',\n",
       " nan,\n",
       " 'IAB22',\n",
       " 'IAB3',\n",
       " 'IAB13',\n",
       " 'IAB18-1',\n",
       " 'IAB22',\n",
       " 'IAB13',\n",
       " nan]"
      ]
     },
     "execution_count": 39,
     "metadata": {},
     "output_type": "execute_result"
    }
   ],
   "source": [
    "df_train.Category.head(100).tolist()"
   ]
  },
  {
   "cell_type": "markdown",
   "metadata": {},
   "source": [
    "## Dataset Setting"
   ]
  },
  {
   "cell_type": "code",
   "execution_count": 16,
   "metadata": {},
   "outputs": [],
   "source": [
    "class MyDataset(Dataset):\n",
    "    def __init__(self, df, if_test):\n",
    "        self.df = df\n",
    "        self.if_test = if_test\n",
    "        if self.if_test:\n",
    "            self.labels = self.df['winning'].values\n",
    "            self.df = self.df.drop(columns=['winning']).values\n",
    "        else:\n",
    "            self.df = self.df.values\n",
    "\n",
    "    def __getitem__(self, index):\n",
    "        if self.if_test:\n",
    "            self.x = self.df[index]\n",
    "            self.y = self.labels[index]\n",
    "            return torch.Tensor(self.x), self.y\n",
    "        else:\n",
    "            self.x = self.df[index]\n",
    "            return torch.Tensor(self.x)\n",
    "    \n",
    "    def __len__(self):\n",
    "        return len(self.df)"
   ]
  },
  {
   "cell_type": "code",
   "execution_count": null,
   "metadata": {},
   "outputs": [],
   "source": []
  }
 ],
 "metadata": {
  "kernelspec": {
   "display_name": "Python 3.8.13 ('torch')",
   "language": "python",
   "name": "python3"
  },
  "language_info": {
   "codemirror_mode": {
    "name": "ipython",
    "version": 3
   },
   "file_extension": ".py",
   "mimetype": "text/x-python",
   "name": "python",
   "nbconvert_exporter": "python",
   "pygments_lexer": "ipython3",
   "version": "3.8.13"
  },
  "orig_nbformat": 4,
  "vscode": {
   "interpreter": {
    "hash": "c2819cb95bedbdbf0235ea4f18636776a6258e25e4398420083407874651edca"
   }
  }
 },
 "nbformat": 4,
 "nbformat_minor": 2
}
